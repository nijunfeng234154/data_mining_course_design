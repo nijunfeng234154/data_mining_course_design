{
 "cells": [
  {
   "cell_type": "code",
   "execution_count": 2,
   "id": "9e34ef3f-1c10-460d-8c94-621dd606a2f4",
   "metadata": {},
   "outputs": [
    {
     "name": "stdout",
     "output_type": "stream",
     "text": [
      "Looking in indexes: https://pypi.tuna.tsinghua.edu.cn/simple\n",
      "Collecting lightgbm\n",
      "  Using cached https://pypi.tuna.tsinghua.edu.cn/packages/b3/f8/ee33e36194eb03a76eccf3adac3fba51f0e56fbd20609bb531659d48d3cb/lightgbm-4.1.0-py3-none-win_amd64.whl (1.3 MB)\n",
      "Requirement already satisfied: numpy in c:\\users\\11629\\.conda\\envs\\pytorch310\\lib\\site-packages (from lightgbm) (1.24.1)\n",
      "Requirement already satisfied: scipy in c:\\users\\11629\\.conda\\envs\\pytorch310\\lib\\site-packages (from lightgbm) (1.11.3)\n",
      "Installing collected packages: lightgbm\n",
      "Successfully installed lightgbm-4.1.0\n",
      "Looking in indexes: https://pypi.tuna.tsinghua.edu.cn/simple\n",
      "Collecting xgboost\n",
      "  Using cached https://pypi.tuna.tsinghua.edu.cn/packages/bc/43/242432efc3f60052a4a534dc4926b21e236ab4ec8d4920c593da3f65c65d/xgboost-2.0.2-py3-none-win_amd64.whl (99.8 MB)\n",
      "Requirement already satisfied: numpy in c:\\users\\11629\\.conda\\envs\\pytorch310\\lib\\site-packages (from xgboost) (1.24.1)\n",
      "Requirement already satisfied: scipy in c:\\users\\11629\\.conda\\envs\\pytorch310\\lib\\site-packages (from xgboost) (1.11.3)\n",
      "Installing collected packages: xgboost\n",
      "Successfully installed xgboost-2.0.2\n",
      "Looking in indexes: https://pypi.tuna.tsinghua.edu.cn/simple\n"
     ]
    },
    {
     "name": "stderr",
     "output_type": "stream",
     "text": [
      "ERROR: Could not find a version that satisfies the requirement time (from versions: none)\n",
      "ERROR: No matching distribution found for time\n"
     ]
    }
   ],
   "source": [
    "!pip install lightgbm\n",
    "!pip install xgboost"
   ]
  },
  {
   "cell_type": "code",
   "execution_count": null,
   "id": "cd0a2b31-78ad-4757-88da-70111731f713",
   "metadata": {
    "pycharm": {
     "is_executing": true
    }
   },
   "outputs": [],
   "source": [
    "import numpy as np \n",
    "import pandas as pd \n",
    "import os\n",
    "import time\n",
    "import seaborn as sns \n",
    "import matplotlib.pyplot as plt\n",
    "# %matplotlib inline\n",
    "# plt.style.use('ggplot')\n",
    "import lightgbm as lgb\n",
    "import xgboost as xgb\n",
    "# import plotly.offline as py\n",
    "# py.init_notebook_mode(connected=True)\n",
    "import warnings\n",
    "warnings.filterwarnings(\"ignore\")\n",
    "# import time\n",
    "# import datetime\n",
    "# print(plt.style.available)\n",
    "# plt.style.use('seaborn-v0_8')\n",
    "plt.rcParams.update({'font.size': 4})\n",
    "sns.set(font_scale=2)\n",
    "pd.set_option('display.max_columns', 500)\n"
   ]
  },
  {
   "cell_type": "code",
   "execution_count": 27,
   "id": "934042f6-72ec-49a9-846e-dd1e56c933e0",
   "metadata": {
    "scrolled": true
   },
   "outputs": [
    {
     "ename": "MemoryError",
     "evalue": "Unable to allocate 64.0 KiB for an array with shape (8192,) and data type float64",
     "output_type": "error",
     "traceback": [
      "\u001B[1;31m---------------------------------------------------------------------------\u001B[0m",
      "\u001B[1;31mMemoryError\u001B[0m                               Traceback (most recent call last)",
      "File \u001B[1;32m<timed exec>:1\u001B[0m\n",
      "File \u001B[1;32m~\\.conda\\envs\\pytorch310\\lib\\site-packages\\pandas\\io\\parsers\\readers.py:948\u001B[0m, in \u001B[0;36mread_csv\u001B[1;34m(filepath_or_buffer, sep, delimiter, header, names, index_col, usecols, dtype, engine, converters, true_values, false_values, skipinitialspace, skiprows, skipfooter, nrows, na_values, keep_default_na, na_filter, verbose, skip_blank_lines, parse_dates, infer_datetime_format, keep_date_col, date_parser, date_format, dayfirst, cache_dates, iterator, chunksize, compression, thousands, decimal, lineterminator, quotechar, quoting, doublequote, escapechar, comment, encoding, encoding_errors, dialect, on_bad_lines, delim_whitespace, low_memory, memory_map, float_precision, storage_options, dtype_backend)\u001B[0m\n\u001B[0;32m    935\u001B[0m kwds_defaults \u001B[38;5;241m=\u001B[39m _refine_defaults_read(\n\u001B[0;32m    936\u001B[0m     dialect,\n\u001B[0;32m    937\u001B[0m     delimiter,\n\u001B[1;32m   (...)\u001B[0m\n\u001B[0;32m    944\u001B[0m     dtype_backend\u001B[38;5;241m=\u001B[39mdtype_backend,\n\u001B[0;32m    945\u001B[0m )\n\u001B[0;32m    946\u001B[0m kwds\u001B[38;5;241m.\u001B[39mupdate(kwds_defaults)\n\u001B[1;32m--> 948\u001B[0m \u001B[38;5;28;01mreturn\u001B[39;00m \u001B[43m_read\u001B[49m\u001B[43m(\u001B[49m\u001B[43mfilepath_or_buffer\u001B[49m\u001B[43m,\u001B[49m\u001B[43m \u001B[49m\u001B[43mkwds\u001B[49m\u001B[43m)\u001B[49m\n",
      "File \u001B[1;32m~\\.conda\\envs\\pytorch310\\lib\\site-packages\\pandas\\io\\parsers\\readers.py:617\u001B[0m, in \u001B[0;36m_read\u001B[1;34m(filepath_or_buffer, kwds)\u001B[0m\n\u001B[0;32m    614\u001B[0m     \u001B[38;5;28;01mreturn\u001B[39;00m parser\n\u001B[0;32m    616\u001B[0m \u001B[38;5;28;01mwith\u001B[39;00m parser:\n\u001B[1;32m--> 617\u001B[0m     \u001B[38;5;28;01mreturn\u001B[39;00m \u001B[43mparser\u001B[49m\u001B[38;5;241;43m.\u001B[39;49m\u001B[43mread\u001B[49m\u001B[43m(\u001B[49m\u001B[43mnrows\u001B[49m\u001B[43m)\u001B[49m\n",
      "File \u001B[1;32m~\\.conda\\envs\\pytorch310\\lib\\site-packages\\pandas\\io\\parsers\\readers.py:1748\u001B[0m, in \u001B[0;36mTextFileReader.read\u001B[1;34m(self, nrows)\u001B[0m\n\u001B[0;32m   1741\u001B[0m nrows \u001B[38;5;241m=\u001B[39m validate_integer(\u001B[38;5;124m\"\u001B[39m\u001B[38;5;124mnrows\u001B[39m\u001B[38;5;124m\"\u001B[39m, nrows)\n\u001B[0;32m   1742\u001B[0m \u001B[38;5;28;01mtry\u001B[39;00m:\n\u001B[0;32m   1743\u001B[0m     \u001B[38;5;66;03m# error: \"ParserBase\" has no attribute \"read\"\u001B[39;00m\n\u001B[0;32m   1744\u001B[0m     (\n\u001B[0;32m   1745\u001B[0m         index,\n\u001B[0;32m   1746\u001B[0m         columns,\n\u001B[0;32m   1747\u001B[0m         col_dict,\n\u001B[1;32m-> 1748\u001B[0m     ) \u001B[38;5;241m=\u001B[39m \u001B[38;5;28;43mself\u001B[39;49m\u001B[38;5;241;43m.\u001B[39;49m\u001B[43m_engine\u001B[49m\u001B[38;5;241;43m.\u001B[39;49m\u001B[43mread\u001B[49m\u001B[43m(\u001B[49m\u001B[43m  \u001B[49m\u001B[38;5;66;43;03m# type: ignore[attr-defined]\u001B[39;49;00m\n\u001B[0;32m   1749\u001B[0m \u001B[43m        \u001B[49m\u001B[43mnrows\u001B[49m\n\u001B[0;32m   1750\u001B[0m \u001B[43m    \u001B[49m\u001B[43m)\u001B[49m\n\u001B[0;32m   1751\u001B[0m \u001B[38;5;28;01mexcept\u001B[39;00m \u001B[38;5;167;01mException\u001B[39;00m:\n\u001B[0;32m   1752\u001B[0m     \u001B[38;5;28mself\u001B[39m\u001B[38;5;241m.\u001B[39mclose()\n",
      "File \u001B[1;32m~\\.conda\\envs\\pytorch310\\lib\\site-packages\\pandas\\io\\parsers\\c_parser_wrapper.py:234\u001B[0m, in \u001B[0;36mCParserWrapper.read\u001B[1;34m(self, nrows)\u001B[0m\n\u001B[0;32m    232\u001B[0m \u001B[38;5;28;01mtry\u001B[39;00m:\n\u001B[0;32m    233\u001B[0m     \u001B[38;5;28;01mif\u001B[39;00m \u001B[38;5;28mself\u001B[39m\u001B[38;5;241m.\u001B[39mlow_memory:\n\u001B[1;32m--> 234\u001B[0m         chunks \u001B[38;5;241m=\u001B[39m \u001B[38;5;28;43mself\u001B[39;49m\u001B[38;5;241;43m.\u001B[39;49m\u001B[43m_reader\u001B[49m\u001B[38;5;241;43m.\u001B[39;49m\u001B[43mread_low_memory\u001B[49m\u001B[43m(\u001B[49m\u001B[43mnrows\u001B[49m\u001B[43m)\u001B[49m\n\u001B[0;32m    235\u001B[0m         \u001B[38;5;66;03m# destructive to chunks\u001B[39;00m\n\u001B[0;32m    236\u001B[0m         data \u001B[38;5;241m=\u001B[39m _concatenate_chunks(chunks)\n",
      "File \u001B[1;32mparsers.pyx:843\u001B[0m, in \u001B[0;36mpandas._libs.parsers.TextReader.read_low_memory\u001B[1;34m()\u001B[0m\n",
      "File \u001B[1;32mparsers.pyx:920\u001B[0m, in \u001B[0;36mpandas._libs.parsers.TextReader._read_rows\u001B[1;34m()\u001B[0m\n",
      "File \u001B[1;32mparsers.pyx:1082\u001B[0m, in \u001B[0;36mpandas._libs.parsers.TextReader._convert_column_data\u001B[1;34m()\u001B[0m\n",
      "File \u001B[1;32mparsers.pyx:1454\u001B[0m, in \u001B[0;36mpandas._libs.parsers._maybe_upcast\u001B[1;34m()\u001B[0m\n",
      "\u001B[1;31mMemoryError\u001B[0m: Unable to allocate 64.0 KiB for an array with shape (8192,) and data type float64"
     ]
    },
    {
     "ename": "MemoryError",
     "evalue": "Unable to allocate 64.0 KiB for an array with shape (8192,) and data type int64",
     "output_type": "error",
     "traceback": [
      "\u001B[1;31m---------------------------------------------------------------------------\u001B[0m",
      "\u001B[1;31mMemoryError\u001B[0m                               Traceback (most recent call last)",
      "File \u001B[1;32m<timed exec>:1\u001B[0m\n",
      "File \u001B[1;32m~\\.conda\\envs\\pytorch310\\lib\\site-packages\\pandas\\io\\parsers\\readers.py:948\u001B[0m, in \u001B[0;36mread_csv\u001B[1;34m(filepath_or_buffer, sep, delimiter, header, names, index_col, usecols, dtype, engine, converters, true_values, false_values, skipinitialspace, skiprows, skipfooter, nrows, na_values, keep_default_na, na_filter, verbose, skip_blank_lines, parse_dates, infer_datetime_format, keep_date_col, date_parser, date_format, dayfirst, cache_dates, iterator, chunksize, compression, thousands, decimal, lineterminator, quotechar, quoting, doublequote, escapechar, comment, encoding, encoding_errors, dialect, on_bad_lines, delim_whitespace, low_memory, memory_map, float_precision, storage_options, dtype_backend)\u001B[0m\n\u001B[0;32m    935\u001B[0m kwds_defaults \u001B[38;5;241m=\u001B[39m _refine_defaults_read(\n\u001B[0;32m    936\u001B[0m     dialect,\n\u001B[0;32m    937\u001B[0m     delimiter,\n\u001B[1;32m   (...)\u001B[0m\n\u001B[0;32m    944\u001B[0m     dtype_backend\u001B[38;5;241m=\u001B[39mdtype_backend,\n\u001B[0;32m    945\u001B[0m )\n\u001B[0;32m    946\u001B[0m kwds\u001B[38;5;241m.\u001B[39mupdate(kwds_defaults)\n\u001B[1;32m--> 948\u001B[0m \u001B[38;5;28;01mreturn\u001B[39;00m \u001B[43m_read\u001B[49m\u001B[43m(\u001B[49m\u001B[43mfilepath_or_buffer\u001B[49m\u001B[43m,\u001B[49m\u001B[43m \u001B[49m\u001B[43mkwds\u001B[49m\u001B[43m)\u001B[49m\n",
      "File \u001B[1;32m~\\.conda\\envs\\pytorch310\\lib\\site-packages\\pandas\\io\\parsers\\readers.py:617\u001B[0m, in \u001B[0;36m_read\u001B[1;34m(filepath_or_buffer, kwds)\u001B[0m\n\u001B[0;32m    614\u001B[0m     \u001B[38;5;28;01mreturn\u001B[39;00m parser\n\u001B[0;32m    616\u001B[0m \u001B[38;5;28;01mwith\u001B[39;00m parser:\n\u001B[1;32m--> 617\u001B[0m     \u001B[38;5;28;01mreturn\u001B[39;00m \u001B[43mparser\u001B[49m\u001B[38;5;241;43m.\u001B[39;49m\u001B[43mread\u001B[49m\u001B[43m(\u001B[49m\u001B[43mnrows\u001B[49m\u001B[43m)\u001B[49m\n",
      "File \u001B[1;32m~\\.conda\\envs\\pytorch310\\lib\\site-packages\\pandas\\io\\parsers\\readers.py:1748\u001B[0m, in \u001B[0;36mTextFileReader.read\u001B[1;34m(self, nrows)\u001B[0m\n\u001B[0;32m   1741\u001B[0m nrows \u001B[38;5;241m=\u001B[39m validate_integer(\u001B[38;5;124m\"\u001B[39m\u001B[38;5;124mnrows\u001B[39m\u001B[38;5;124m\"\u001B[39m, nrows)\n\u001B[0;32m   1742\u001B[0m \u001B[38;5;28;01mtry\u001B[39;00m:\n\u001B[0;32m   1743\u001B[0m     \u001B[38;5;66;03m# error: \"ParserBase\" has no attribute \"read\"\u001B[39;00m\n\u001B[0;32m   1744\u001B[0m     (\n\u001B[0;32m   1745\u001B[0m         index,\n\u001B[0;32m   1746\u001B[0m         columns,\n\u001B[0;32m   1747\u001B[0m         col_dict,\n\u001B[1;32m-> 1748\u001B[0m     ) \u001B[38;5;241m=\u001B[39m \u001B[38;5;28;43mself\u001B[39;49m\u001B[38;5;241;43m.\u001B[39;49m\u001B[43m_engine\u001B[49m\u001B[38;5;241;43m.\u001B[39;49m\u001B[43mread\u001B[49m\u001B[43m(\u001B[49m\u001B[43m  \u001B[49m\u001B[38;5;66;43;03m# type: ignore[attr-defined]\u001B[39;49;00m\n\u001B[0;32m   1749\u001B[0m \u001B[43m        \u001B[49m\u001B[43mnrows\u001B[49m\n\u001B[0;32m   1750\u001B[0m \u001B[43m    \u001B[49m\u001B[43m)\u001B[49m\n\u001B[0;32m   1751\u001B[0m \u001B[38;5;28;01mexcept\u001B[39;00m \u001B[38;5;167;01mException\u001B[39;00m:\n\u001B[0;32m   1752\u001B[0m     \u001B[38;5;28mself\u001B[39m\u001B[38;5;241m.\u001B[39mclose()\n",
      "File \u001B[1;32m~\\.conda\\envs\\pytorch310\\lib\\site-packages\\pandas\\io\\parsers\\c_parser_wrapper.py:234\u001B[0m, in \u001B[0;36mCParserWrapper.read\u001B[1;34m(self, nrows)\u001B[0m\n\u001B[0;32m    232\u001B[0m \u001B[38;5;28;01mtry\u001B[39;00m:\n\u001B[0;32m    233\u001B[0m     \u001B[38;5;28;01mif\u001B[39;00m \u001B[38;5;28mself\u001B[39m\u001B[38;5;241m.\u001B[39mlow_memory:\n\u001B[1;32m--> 234\u001B[0m         chunks \u001B[38;5;241m=\u001B[39m \u001B[38;5;28;43mself\u001B[39;49m\u001B[38;5;241;43m.\u001B[39;49m\u001B[43m_reader\u001B[49m\u001B[38;5;241;43m.\u001B[39;49m\u001B[43mread_low_memory\u001B[49m\u001B[43m(\u001B[49m\u001B[43mnrows\u001B[49m\u001B[43m)\u001B[49m\n\u001B[0;32m    235\u001B[0m         \u001B[38;5;66;03m# destructive to chunks\u001B[39;00m\n\u001B[0;32m    236\u001B[0m         data \u001B[38;5;241m=\u001B[39m _concatenate_chunks(chunks)\n",
      "File \u001B[1;32mparsers.pyx:843\u001B[0m, in \u001B[0;36mpandas._libs.parsers.TextReader.read_low_memory\u001B[1;34m()\u001B[0m\n",
      "File \u001B[1;32mparsers.pyx:920\u001B[0m, in \u001B[0;36mpandas._libs.parsers.TextReader._read_rows\u001B[1;34m()\u001B[0m\n",
      "File \u001B[1;32mparsers.pyx:1065\u001B[0m, in \u001B[0;36mpandas._libs.parsers.TextReader._convert_column_data\u001B[1;34m()\u001B[0m\n",
      "File \u001B[1;32mparsers.pyx:1119\u001B[0m, in \u001B[0;36mpandas._libs.parsers.TextReader._convert_tokens\u001B[1;34m()\u001B[0m\n",
      "File \u001B[1;32mparsers.pyx:1221\u001B[0m, in \u001B[0;36mpandas._libs.parsers.TextReader._convert_with_dtype\u001B[1;34m()\u001B[0m\n",
      "File \u001B[1;32mparsers.pyx:1830\u001B[0m, in \u001B[0;36mpandas._libs.parsers._try_int64\u001B[1;34m()\u001B[0m\n",
      "\u001B[1;31mMemoryError\u001B[0m: Unable to allocate 64.0 KiB for an array with shape (8192,) and data type int64"
     ]
    }
   ],
   "source": [
    "%time train=pd.read_csv('./train.csv')\n",
    "# train = reduce_mem_usage(train)\n",
    "%time test=pd.read_csv('./test.csv')\n",
    "# test = reduce_mem_usage(test)"
   ]
  },
  {
   "cell_type": "code",
   "execution_count": 28,
   "id": "eb028074-55b8-4d49-ac96-183949427675",
   "metadata": {},
   "outputs": [
    {
     "ename": "MemoryError",
     "evalue": "Unable to allocate 1.99 GiB for an array with shape (30, 8921483) and data type object",
     "output_type": "error",
     "traceback": [
      "\u001B[1;31m---------------------------------------------------------------------------\u001B[0m",
      "\u001B[1;31mMemoryError\u001B[0m                               Traceback (most recent call last)",
      "Cell \u001B[1;32mIn[28], line 2\u001B[0m\n\u001B[0;32m      1\u001B[0m \u001B[38;5;66;03m#合并训练集和测试集，便于进行统一数据预处理\u001B[39;00m\n\u001B[1;32m----> 2\u001B[0m X \u001B[38;5;241m=\u001B[39m pd\u001B[38;5;241m.\u001B[39mconcat([\u001B[43mtrain\u001B[49m\u001B[38;5;241;43m.\u001B[39;49m\u001B[43mdrop\u001B[49m\u001B[43m(\u001B[49m\u001B[38;5;124;43m\"\u001B[39;49m\u001B[38;5;124;43mHasDetections\u001B[39;49m\u001B[38;5;124;43m\"\u001B[39;49m\u001B[43m,\u001B[49m\u001B[43m \u001B[49m\u001B[43maxis\u001B[49m\u001B[38;5;241;43m=\u001B[39;49m\u001B[38;5;241;43m1\u001B[39;49m\u001B[43m)\u001B[49m,test], axis\u001B[38;5;241m=\u001B[39m\u001B[38;5;241m0\u001B[39m)\n\u001B[0;32m      3\u001B[0m y \u001B[38;5;241m=\u001B[39m train[[\u001B[38;5;124m'\u001B[39m\u001B[38;5;124mHasDetections\u001B[39m\u001B[38;5;124m'\u001B[39m]]\n",
      "File \u001B[1;32m~\\.conda\\envs\\pytorch310\\lib\\site-packages\\pandas\\core\\frame.py:5347\u001B[0m, in \u001B[0;36mDataFrame.drop\u001B[1;34m(self, labels, axis, index, columns, level, inplace, errors)\u001B[0m\n\u001B[0;32m   5199\u001B[0m \u001B[38;5;28;01mdef\u001B[39;00m \u001B[38;5;21mdrop\u001B[39m(\n\u001B[0;32m   5200\u001B[0m     \u001B[38;5;28mself\u001B[39m,\n\u001B[0;32m   5201\u001B[0m     labels: IndexLabel \u001B[38;5;241m|\u001B[39m \u001B[38;5;28;01mNone\u001B[39;00m \u001B[38;5;241m=\u001B[39m \u001B[38;5;28;01mNone\u001B[39;00m,\n\u001B[1;32m   (...)\u001B[0m\n\u001B[0;32m   5208\u001B[0m     errors: IgnoreRaise \u001B[38;5;241m=\u001B[39m \u001B[38;5;124m\"\u001B[39m\u001B[38;5;124mraise\u001B[39m\u001B[38;5;124m\"\u001B[39m,\n\u001B[0;32m   5209\u001B[0m ) \u001B[38;5;241m-\u001B[39m\u001B[38;5;241m>\u001B[39m DataFrame \u001B[38;5;241m|\u001B[39m \u001B[38;5;28;01mNone\u001B[39;00m:\n\u001B[0;32m   5210\u001B[0m \u001B[38;5;250m    \u001B[39m\u001B[38;5;124;03m\"\"\"\u001B[39;00m\n\u001B[0;32m   5211\u001B[0m \u001B[38;5;124;03m    Drop specified labels from rows or columns.\u001B[39;00m\n\u001B[0;32m   5212\u001B[0m \n\u001B[1;32m   (...)\u001B[0m\n\u001B[0;32m   5345\u001B[0m \u001B[38;5;124;03m            weight  1.0     0.8\u001B[39;00m\n\u001B[0;32m   5346\u001B[0m \u001B[38;5;124;03m    \"\"\"\u001B[39;00m\n\u001B[1;32m-> 5347\u001B[0m     \u001B[38;5;28;01mreturn\u001B[39;00m \u001B[38;5;28;43msuper\u001B[39;49m\u001B[43m(\u001B[49m\u001B[43m)\u001B[49m\u001B[38;5;241;43m.\u001B[39;49m\u001B[43mdrop\u001B[49m\u001B[43m(\u001B[49m\n\u001B[0;32m   5348\u001B[0m \u001B[43m        \u001B[49m\u001B[43mlabels\u001B[49m\u001B[38;5;241;43m=\u001B[39;49m\u001B[43mlabels\u001B[49m\u001B[43m,\u001B[49m\n\u001B[0;32m   5349\u001B[0m \u001B[43m        \u001B[49m\u001B[43maxis\u001B[49m\u001B[38;5;241;43m=\u001B[39;49m\u001B[43maxis\u001B[49m\u001B[43m,\u001B[49m\n\u001B[0;32m   5350\u001B[0m \u001B[43m        \u001B[49m\u001B[43mindex\u001B[49m\u001B[38;5;241;43m=\u001B[39;49m\u001B[43mindex\u001B[49m\u001B[43m,\u001B[49m\n\u001B[0;32m   5351\u001B[0m \u001B[43m        \u001B[49m\u001B[43mcolumns\u001B[49m\u001B[38;5;241;43m=\u001B[39;49m\u001B[43mcolumns\u001B[49m\u001B[43m,\u001B[49m\n\u001B[0;32m   5352\u001B[0m \u001B[43m        \u001B[49m\u001B[43mlevel\u001B[49m\u001B[38;5;241;43m=\u001B[39;49m\u001B[43mlevel\u001B[49m\u001B[43m,\u001B[49m\n\u001B[0;32m   5353\u001B[0m \u001B[43m        \u001B[49m\u001B[43minplace\u001B[49m\u001B[38;5;241;43m=\u001B[39;49m\u001B[43minplace\u001B[49m\u001B[43m,\u001B[49m\n\u001B[0;32m   5354\u001B[0m \u001B[43m        \u001B[49m\u001B[43merrors\u001B[49m\u001B[38;5;241;43m=\u001B[39;49m\u001B[43merrors\u001B[49m\u001B[43m,\u001B[49m\n\u001B[0;32m   5355\u001B[0m \u001B[43m    \u001B[49m\u001B[43m)\u001B[49m\n",
      "File \u001B[1;32m~\\.conda\\envs\\pytorch310\\lib\\site-packages\\pandas\\core\\generic.py:4711\u001B[0m, in \u001B[0;36mNDFrame.drop\u001B[1;34m(self, labels, axis, index, columns, level, inplace, errors)\u001B[0m\n\u001B[0;32m   4709\u001B[0m \u001B[38;5;28;01mfor\u001B[39;00m axis, labels \u001B[38;5;129;01min\u001B[39;00m axes\u001B[38;5;241m.\u001B[39mitems():\n\u001B[0;32m   4710\u001B[0m     \u001B[38;5;28;01mif\u001B[39;00m labels \u001B[38;5;129;01mis\u001B[39;00m \u001B[38;5;129;01mnot\u001B[39;00m \u001B[38;5;28;01mNone\u001B[39;00m:\n\u001B[1;32m-> 4711\u001B[0m         obj \u001B[38;5;241m=\u001B[39m \u001B[43mobj\u001B[49m\u001B[38;5;241;43m.\u001B[39;49m\u001B[43m_drop_axis\u001B[49m\u001B[43m(\u001B[49m\u001B[43mlabels\u001B[49m\u001B[43m,\u001B[49m\u001B[43m \u001B[49m\u001B[43maxis\u001B[49m\u001B[43m,\u001B[49m\u001B[43m \u001B[49m\u001B[43mlevel\u001B[49m\u001B[38;5;241;43m=\u001B[39;49m\u001B[43mlevel\u001B[49m\u001B[43m,\u001B[49m\u001B[43m \u001B[49m\u001B[43merrors\u001B[49m\u001B[38;5;241;43m=\u001B[39;49m\u001B[43merrors\u001B[49m\u001B[43m)\u001B[49m\n\u001B[0;32m   4713\u001B[0m \u001B[38;5;28;01mif\u001B[39;00m inplace:\n\u001B[0;32m   4714\u001B[0m     \u001B[38;5;28mself\u001B[39m\u001B[38;5;241m.\u001B[39m_update_inplace(obj)\n",
      "File \u001B[1;32m~\\.conda\\envs\\pytorch310\\lib\\site-packages\\pandas\\core\\generic.py:4792\u001B[0m, in \u001B[0;36mNDFrame._drop_axis\u001B[1;34m(self, labels, axis, level, errors, only_slice)\u001B[0m\n\u001B[0;32m   4789\u001B[0m     new_axis \u001B[38;5;241m=\u001B[39m axis\u001B[38;5;241m.\u001B[39mtake(indexer)\n\u001B[0;32m   4791\u001B[0m bm_axis \u001B[38;5;241m=\u001B[39m \u001B[38;5;28mself\u001B[39m\u001B[38;5;241m.\u001B[39mndim \u001B[38;5;241m-\u001B[39m axis_num \u001B[38;5;241m-\u001B[39m \u001B[38;5;241m1\u001B[39m\n\u001B[1;32m-> 4792\u001B[0m new_mgr \u001B[38;5;241m=\u001B[39m \u001B[38;5;28;43mself\u001B[39;49m\u001B[38;5;241;43m.\u001B[39;49m\u001B[43m_mgr\u001B[49m\u001B[38;5;241;43m.\u001B[39;49m\u001B[43mreindex_indexer\u001B[49m\u001B[43m(\u001B[49m\n\u001B[0;32m   4793\u001B[0m \u001B[43m    \u001B[49m\u001B[43mnew_axis\u001B[49m\u001B[43m,\u001B[49m\n\u001B[0;32m   4794\u001B[0m \u001B[43m    \u001B[49m\u001B[43mindexer\u001B[49m\u001B[43m,\u001B[49m\n\u001B[0;32m   4795\u001B[0m \u001B[43m    \u001B[49m\u001B[43maxis\u001B[49m\u001B[38;5;241;43m=\u001B[39;49m\u001B[43mbm_axis\u001B[49m\u001B[43m,\u001B[49m\n\u001B[0;32m   4796\u001B[0m \u001B[43m    \u001B[49m\u001B[43mallow_dups\u001B[49m\u001B[38;5;241;43m=\u001B[39;49m\u001B[38;5;28;43;01mTrue\u001B[39;49;00m\u001B[43m,\u001B[49m\n\u001B[0;32m   4797\u001B[0m \u001B[43m    \u001B[49m\u001B[43mcopy\u001B[49m\u001B[38;5;241;43m=\u001B[39;49m\u001B[38;5;28;43;01mNone\u001B[39;49;00m\u001B[43m,\u001B[49m\n\u001B[0;32m   4798\u001B[0m \u001B[43m    \u001B[49m\u001B[43monly_slice\u001B[49m\u001B[38;5;241;43m=\u001B[39;49m\u001B[43monly_slice\u001B[49m\u001B[43m,\u001B[49m\n\u001B[0;32m   4799\u001B[0m \u001B[43m\u001B[49m\u001B[43m)\u001B[49m\n\u001B[0;32m   4800\u001B[0m result \u001B[38;5;241m=\u001B[39m \u001B[38;5;28mself\u001B[39m\u001B[38;5;241m.\u001B[39m_constructor_from_mgr(new_mgr, axes\u001B[38;5;241m=\u001B[39mnew_mgr\u001B[38;5;241m.\u001B[39maxes)\n\u001B[0;32m   4801\u001B[0m \u001B[38;5;28;01mif\u001B[39;00m \u001B[38;5;28mself\u001B[39m\u001B[38;5;241m.\u001B[39mndim \u001B[38;5;241m==\u001B[39m \u001B[38;5;241m1\u001B[39m:\n",
      "File \u001B[1;32m~\\.conda\\envs\\pytorch310\\lib\\site-packages\\pandas\\core\\internals\\managers.py:663\u001B[0m, in \u001B[0;36mBaseBlockManager.reindex_indexer\u001B[1;34m(self, new_axis, indexer, axis, fill_value, allow_dups, copy, only_slice, use_na_proxy)\u001B[0m\n\u001B[0;32m    660\u001B[0m     \u001B[38;5;28;01mraise\u001B[39;00m \u001B[38;5;167;01mIndexError\u001B[39;00m(\u001B[38;5;124m\"\u001B[39m\u001B[38;5;124mRequested axis not found in manager\u001B[39m\u001B[38;5;124m\"\u001B[39m)\n\u001B[0;32m    662\u001B[0m \u001B[38;5;28;01mif\u001B[39;00m axis \u001B[38;5;241m==\u001B[39m \u001B[38;5;241m0\u001B[39m:\n\u001B[1;32m--> 663\u001B[0m     new_blocks \u001B[38;5;241m=\u001B[39m \u001B[38;5;28;43mself\u001B[39;49m\u001B[38;5;241;43m.\u001B[39;49m\u001B[43m_slice_take_blocks_ax0\u001B[49m\u001B[43m(\u001B[49m\n\u001B[0;32m    664\u001B[0m \u001B[43m        \u001B[49m\u001B[43mindexer\u001B[49m\u001B[43m,\u001B[49m\n\u001B[0;32m    665\u001B[0m \u001B[43m        \u001B[49m\u001B[43mfill_value\u001B[49m\u001B[38;5;241;43m=\u001B[39;49m\u001B[43mfill_value\u001B[49m\u001B[43m,\u001B[49m\n\u001B[0;32m    666\u001B[0m \u001B[43m        \u001B[49m\u001B[43monly_slice\u001B[49m\u001B[38;5;241;43m=\u001B[39;49m\u001B[43monly_slice\u001B[49m\u001B[43m,\u001B[49m\n\u001B[0;32m    667\u001B[0m \u001B[43m        \u001B[49m\u001B[43muse_na_proxy\u001B[49m\u001B[38;5;241;43m=\u001B[39;49m\u001B[43muse_na_proxy\u001B[49m\u001B[43m,\u001B[49m\n\u001B[0;32m    668\u001B[0m \u001B[43m    \u001B[49m\u001B[43m)\u001B[49m\n\u001B[0;32m    669\u001B[0m \u001B[38;5;28;01melse\u001B[39;00m:\n\u001B[0;32m    670\u001B[0m     new_blocks \u001B[38;5;241m=\u001B[39m [\n\u001B[0;32m    671\u001B[0m         blk\u001B[38;5;241m.\u001B[39mtake_nd(\n\u001B[0;32m    672\u001B[0m             indexer,\n\u001B[1;32m   (...)\u001B[0m\n\u001B[0;32m    678\u001B[0m         \u001B[38;5;28;01mfor\u001B[39;00m blk \u001B[38;5;129;01min\u001B[39;00m \u001B[38;5;28mself\u001B[39m\u001B[38;5;241m.\u001B[39mblocks\n\u001B[0;32m    679\u001B[0m     ]\n",
      "File \u001B[1;32m~\\.conda\\envs\\pytorch310\\lib\\site-packages\\pandas\\core\\internals\\managers.py:826\u001B[0m, in \u001B[0;36mBaseBlockManager._slice_take_blocks_ax0\u001B[1;34m(self, slice_or_indexer, fill_value, only_slice, use_na_proxy, ref_inplace_op)\u001B[0m\n\u001B[0;32m    824\u001B[0m                     blocks\u001B[38;5;241m.\u001B[39mappend(nb)\n\u001B[0;32m    825\u001B[0m             \u001B[38;5;28;01melse\u001B[39;00m:\n\u001B[1;32m--> 826\u001B[0m                 nb \u001B[38;5;241m=\u001B[39m blk\u001B[38;5;241m.\u001B[39mtake_nd(taker, axis\u001B[38;5;241m=\u001B[39m\u001B[38;5;241m0\u001B[39m, new_mgr_locs\u001B[38;5;241m=\u001B[39mmgr_locs)\n\u001B[0;32m    827\u001B[0m                 blocks\u001B[38;5;241m.\u001B[39mappend(nb)\n\u001B[0;32m    829\u001B[0m \u001B[38;5;28;01mreturn\u001B[39;00m blocks\n",
      "File \u001B[1;32m~\\.conda\\envs\\pytorch310\\lib\\site-packages\\pandas\\core\\internals\\blocks.py:1061\u001B[0m, in \u001B[0;36mBlock.take_nd\u001B[1;34m(self, indexer, axis, new_mgr_locs, fill_value)\u001B[0m\n\u001B[0;32m   1058\u001B[0m     allow_fill \u001B[38;5;241m=\u001B[39m \u001B[38;5;28;01mTrue\u001B[39;00m\n\u001B[0;32m   1060\u001B[0m \u001B[38;5;66;03m# Note: algos.take_nd has upcast logic similar to coerce_to_target_dtype\u001B[39;00m\n\u001B[1;32m-> 1061\u001B[0m new_values \u001B[38;5;241m=\u001B[39m \u001B[43malgos\u001B[49m\u001B[38;5;241;43m.\u001B[39;49m\u001B[43mtake_nd\u001B[49m\u001B[43m(\u001B[49m\n\u001B[0;32m   1062\u001B[0m \u001B[43m    \u001B[49m\u001B[43mvalues\u001B[49m\u001B[43m,\u001B[49m\u001B[43m \u001B[49m\u001B[43mindexer\u001B[49m\u001B[43m,\u001B[49m\u001B[43m \u001B[49m\u001B[43maxis\u001B[49m\u001B[38;5;241;43m=\u001B[39;49m\u001B[43maxis\u001B[49m\u001B[43m,\u001B[49m\u001B[43m \u001B[49m\u001B[43mallow_fill\u001B[49m\u001B[38;5;241;43m=\u001B[39;49m\u001B[43mallow_fill\u001B[49m\u001B[43m,\u001B[49m\u001B[43m \u001B[49m\u001B[43mfill_value\u001B[49m\u001B[38;5;241;43m=\u001B[39;49m\u001B[43mfill_value\u001B[49m\n\u001B[0;32m   1063\u001B[0m \u001B[43m\u001B[49m\u001B[43m)\u001B[49m\n\u001B[0;32m   1065\u001B[0m \u001B[38;5;66;03m# Called from three places in managers, all of which satisfy\u001B[39;00m\n\u001B[0;32m   1066\u001B[0m \u001B[38;5;66;03m#  these assertions\u001B[39;00m\n\u001B[0;32m   1067\u001B[0m \u001B[38;5;28;01mif\u001B[39;00m \u001B[38;5;28misinstance\u001B[39m(\u001B[38;5;28mself\u001B[39m, ExtensionBlock):\n\u001B[0;32m   1068\u001B[0m     \u001B[38;5;66;03m# NB: in this case, the 'axis' kwarg will be ignored in the\u001B[39;00m\n\u001B[0;32m   1069\u001B[0m     \u001B[38;5;66;03m#  algos.take_nd call above.\u001B[39;00m\n",
      "File \u001B[1;32m~\\.conda\\envs\\pytorch310\\lib\\site-packages\\pandas\\core\\array_algos\\take.py:118\u001B[0m, in \u001B[0;36mtake_nd\u001B[1;34m(arr, indexer, axis, fill_value, allow_fill)\u001B[0m\n\u001B[0;32m    115\u001B[0m     \u001B[38;5;28;01mreturn\u001B[39;00m arr\u001B[38;5;241m.\u001B[39mtake(indexer, fill_value\u001B[38;5;241m=\u001B[39mfill_value, allow_fill\u001B[38;5;241m=\u001B[39mallow_fill)\n\u001B[0;32m    117\u001B[0m arr \u001B[38;5;241m=\u001B[39m np\u001B[38;5;241m.\u001B[39masarray(arr)\n\u001B[1;32m--> 118\u001B[0m \u001B[38;5;28;01mreturn\u001B[39;00m \u001B[43m_take_nd_ndarray\u001B[49m\u001B[43m(\u001B[49m\u001B[43marr\u001B[49m\u001B[43m,\u001B[49m\u001B[43m \u001B[49m\u001B[43mindexer\u001B[49m\u001B[43m,\u001B[49m\u001B[43m \u001B[49m\u001B[43maxis\u001B[49m\u001B[43m,\u001B[49m\u001B[43m \u001B[49m\u001B[43mfill_value\u001B[49m\u001B[43m,\u001B[49m\u001B[43m \u001B[49m\u001B[43mallow_fill\u001B[49m\u001B[43m)\u001B[49m\n",
      "File \u001B[1;32m~\\.conda\\envs\\pytorch310\\lib\\site-packages\\pandas\\core\\array_algos\\take.py:158\u001B[0m, in \u001B[0;36m_take_nd_ndarray\u001B[1;34m(arr, indexer, axis, fill_value, allow_fill)\u001B[0m\n\u001B[0;32m    156\u001B[0m     out \u001B[38;5;241m=\u001B[39m np\u001B[38;5;241m.\u001B[39mempty(out_shape, dtype\u001B[38;5;241m=\u001B[39mdtype, order\u001B[38;5;241m=\u001B[39m\u001B[38;5;124m\"\u001B[39m\u001B[38;5;124mF\u001B[39m\u001B[38;5;124m\"\u001B[39m)\n\u001B[0;32m    157\u001B[0m \u001B[38;5;28;01melse\u001B[39;00m:\n\u001B[1;32m--> 158\u001B[0m     out \u001B[38;5;241m=\u001B[39m \u001B[43mnp\u001B[49m\u001B[38;5;241;43m.\u001B[39;49m\u001B[43mempty\u001B[49m\u001B[43m(\u001B[49m\u001B[43mout_shape\u001B[49m\u001B[43m,\u001B[49m\u001B[43m \u001B[49m\u001B[43mdtype\u001B[49m\u001B[38;5;241;43m=\u001B[39;49m\u001B[43mdtype\u001B[49m\u001B[43m)\u001B[49m\n\u001B[0;32m    160\u001B[0m func \u001B[38;5;241m=\u001B[39m _get_take_nd_function(\n\u001B[0;32m    161\u001B[0m     arr\u001B[38;5;241m.\u001B[39mndim, arr\u001B[38;5;241m.\u001B[39mdtype, out\u001B[38;5;241m.\u001B[39mdtype, axis\u001B[38;5;241m=\u001B[39maxis, mask_info\u001B[38;5;241m=\u001B[39mmask_info\n\u001B[0;32m    162\u001B[0m )\n\u001B[0;32m    163\u001B[0m func(arr, indexer, out, fill_value)\n",
      "\u001B[1;31mMemoryError\u001B[0m: Unable to allocate 1.99 GiB for an array with shape (30, 8921483) and data type object"
     ]
    }
   ],
   "source": [
    "#合并训练集和测试集，便于进行统一数据预处理\n",
    "X = pd.concat([train.drop(\"HasDetections\", axis=1),test], axis=0)\n",
    "y = train[['HasDetections']]"
   ]
  },
  {
   "cell_type": "code",
   "execution_count": null,
   "id": "006b342b-ac5e-4852-9fcc-9b0aeb4e9cca",
   "metadata": {},
   "outputs": [],
   "source": [
    "X.info()"
   ]
  },
  {
   "cell_type": "code",
   "execution_count": null,
   "id": "923cadd7-2cb4-487b-b2e8-65b210698329",
   "metadata": {},
   "outputs": [],
   "source": [
    "#分割数值型数据和分类数据\n",
    "numeric_ = X.select_dtypes(exclude=['object']).copy()\n",
    "numeric_.columns"
   ]
  },
  {
   "cell_type": "code",
   "execution_count": null,
   "id": "1f384d96-e996-44ce-9073-b25876471a00",
   "metadata": {},
   "outputs": [],
   "source": [
    "null_num_var = ['RtpStateBitfield ','IsSxsPassiveMode','AVProductsInstalled','AVProductsEnabled','IeVerIdentifier','Census_OEMNameIdentifier',\n",
    "                'Census_OEMModelIdentifier', 'Census_ProcessorManufacturerIdentifier', 'Census_ProcessorModelIdentifier', 'Census_InternalBatteryType', \n",
    "                'Census_InternalBatteryNumberOfCharges', 'Census_OSInstallLanguageIdentifier','Census_OSUILocaleIdentifier','Census_IsFlightingInternal',\n",
    "               'Census_ThresholdOptIn','Census_FirmwareManufacturerIdentifier','Census_FirmwareVersionIdentifier','Census_IsWIMBootEnabled','Wdft_RegionIdentifier']\n",
    "cont_num_var = []\n",
    "for i in numeric_.columns:\n",
    "    if i not in null_num_var:\n",
    "        cont_num_var.append(i)"
   ]
  },
  {
   "cell_type": "code",
   "execution_count": null,
   "id": "355c3c56-0436-45ab-bad2-1e3678ebe316",
   "metadata": {},
   "outputs": [],
   "source": [
    "#分割分类数据\n",
    "cat_train = X.select_dtypes(include=['object']).copy()\n",
    "cat_train.columns"
   ]
  },
  {
   "cell_type": "code",
   "execution_count": null,
   "id": "afc4e697-2e19-43b6-9ae7-a66589976da8",
   "metadata": {},
   "outputs": [],
   "source": [
    "import matplotlib\n",
    "#对数值型数据进行统计特征分析\n",
    "fig = plt.figure(figsize=(18,16))\n",
    "for index,col in enumerate(cont_num_var):\n",
    "    plt.subplot(7,5,index+1)\n",
    "    sns.distplot(numeric_.loc[:,col].dropna(), kde=False)\n",
    "fig.tight_layout(pad=1.0)"
   ]
  },
  {
   "cell_type": "code",
   "execution_count": null,
   "id": "3af03320-fc7c-41a1-a9e3-57bff5833ff4",
   "metadata": {},
   "outputs": [],
   "source": [
    "fig = plt.figure(figsize=(14,15))\n",
    "for index,col in enumerate(cont_num_var):\n",
    "    plt.subplot(7,5,index+1)\n",
    "    sns.boxplot(y=col, data=numeric_.dropna())\n",
    "fig.tight_layout(pad=1.0)"
   ]
  },
  {
   "cell_type": "code",
   "execution_count": null,
   "id": "a7ecd02e-f5e5-47f0-9138-d56cce9c701b",
   "metadata": {},
   "outputs": [],
   "source": [
    "#没提类型的数据\n",
    "# fig = plt.figure(figsize=(20,15))\n",
    "# for index,col in enumerate(disc_num_var):\n",
    "#     plt.subplot(5,4,index+1)\n",
    "#     sns.countplot(x=col, data=numeric_.dropna())\n",
    "# fig.tight_layout(pad=1.0)\n",
    "# umeric_no_missing = numeric_.dropna()\n"
   ]
  },
  {
   "cell_type": "code",
   "execution_count": null,
   "id": "87efa320-db57-4422-a3ba-78f43ea60e80",
   "metadata": {},
   "outputs": [],
   "source": [
    "#分析数值型特征关联矩阵\n",
    "plt.figure(figsize=(14,12))\n",
    "correlation = numeric_.corr()\n",
    "sns.heatmap(correlation, mask = correlation <0.8, linewidth=0.9, cmap='Blues')"
   ]
  },
  {
   "cell_type": "code",
   "execution_count": null,
   "id": "17ebf04f-5dcb-420d-80d1-b2989003e2de",
   "metadata": {},
   "outputs": [],
   "source": [
    "#和预测变量的关联程度\n",
    "numeric_train = train.select_dtypes(exclude=['object'])\n",
    "correlation = numeric_train.corr()\n",
    "correlation[['HasDetections']].sort_values(['HasDetections'], ascending=False)"
   ]
  },
  {
   "cell_type": "code",
   "execution_count": null,
   "id": "2e947583-534f-46ba-a58d-f0e0f680cb3a",
   "metadata": {},
   "outputs": [],
   "source": [
    "# 特征与预测变量关联散点图\n",
    "fig = plt.figure(figsize=(20,20))\n",
    "for index in range(len(numeric_train.columns)):\n",
    "    plt.subplot(10,4,index+1)\n",
    "    sns.scatterplot(x=numeric_train.iloc[:,index], y='HasDetections', data=numeric_train.dropna())\n",
    "fig.tight_layout(pad=1.0)"
   ]
  },
  {
   "cell_type": "code",
   "execution_count": null,
   "id": "309da373-eb42-49fc-90cf-3119ad0bb9b2",
   "metadata": {},
   "outputs": [],
   "source": [
    "#删除高度相关的特征\n"
   ]
  },
  {
   "cell_type": "code",
   "execution_count": null,
   "id": "27a4b9ab-6789-4a92-b540-6bc3f1217a31",
   "metadata": {},
   "outputs": [],
   "source": [
    "#有太多缺失值的特征\n",
    "plt.figure(figsize=(25,8))\n",
    "plt.title('Number of missing rows')\n",
    "missing_count = pd.DataFrame(X.isnull().sum(), columns=['sum']).sort_values(by=['sum'],ascending=False).head(20).reset_index()\n",
    "missing_count.columns = ['features','sum']\n",
    "plt.xticks(rotation=90)\n",
    "sns.barplot(x='features',y='sum', data = missing_count)"
   ]
  },
  {
   "cell_type": "code",
   "execution_count": null,
   "id": "d4e7d82a-9385-405d-ac35-a5a773a40f28",
   "metadata": {},
   "outputs": [],
   "source": [
    "X.drop(['PuaMode','Census_ProcessorClass'], axis=1, inplace=True)"
   ]
  },
  {
   "cell_type": "code",
   "execution_count": null,
   "id": "65f3308b-2c64-4731-82a5-4ae79a92a449",
   "metadata": {},
   "outputs": [],
   "source": [
    "#去掉有过多单一值的特征\n",
    "cat_col = X.select_dtypes(include=['object']).columns\n",
    "overfit_cat = []\n",
    "for i in cat_col:\n",
    "    counts = X[i].value_counts()\n",
    "    zeros = counts.iloc[0]\n",
    "    if zeros / len(X) * 100 > 96:\n",
    "        overfit_cat.append(i)\n",
    "\n",
    "overfit_cat = list(overfit_cat)\n",
    "X = X.drop(overfit_cat, axis=1)"
   ]
  },
  {
   "cell_type": "code",
   "execution_count": null,
   "id": "b459e640-cdb5-46e8-b34e-204689be3acd",
   "metadata": {},
   "outputs": [],
   "source": [
    "num_col = X.select_dtypes(exclude=['object']).drop(['MSSubClass'], axis=1).columns\n",
    "overfit_num = []\n",
    "for i in num_col:\n",
    "    counts = X[i].value_counts()\n",
    "    zeros = counts.iloc[0]\n",
    "    if zeros / len(X) * 100 > 96:\n",
    "        overfit_num.append(i)\n",
    "\n",
    "overfit_num = list(overfit_num)\n",
    "X = X.drop(overfit_num, axis=1)"
   ]
  },
  {
   "cell_type": "code",
   "execution_count": null,
   "id": "aa4bda1b-4f35-4f40-85e0-a1d9eab648a4",
   "metadata": {},
   "outputs": [],
   "source": [
    "print(\"Categorical Features with >96% of the same value: \",overfit_cat)\n",
    "print(\"Numerical Features with >96% of the same value: \",overfit_num)"
   ]
  },
  {
   "cell_type": "code",
   "execution_count": null,
   "id": "d7c22d6d-afce-43c6-adb2-a3839f7dd804",
   "metadata": {},
   "outputs": [],
   "source": [
    "#聚类方法处理值为NA的特征"
   ]
  },
  {
   "cell_type": "code",
   "execution_count": null,
   "id": "d07f07f7-1b1f-4189-a0d1-3e64104d6c5d",
   "metadata": {},
   "outputs": [],
   "source": [
    "# 处理缺失值\n"
   ]
  },
  {
   "cell_type": "code",
   "execution_count": null,
   "id": "cd4d65c3-62f9-4d9f-b938-0391f851f909",
   "metadata": {},
   "outputs": [],
   "source": []
  }
 ],
 "metadata": {
  "kernelspec": {
   "display_name": "Python 3 (ipykernel)",
   "language": "python",
   "name": "python3"
  },
  "language_info": {
   "codemirror_mode": {
    "name": "ipython",
    "version": 3
   },
   "file_extension": ".py",
   "mimetype": "text/x-python",
   "name": "python",
   "nbconvert_exporter": "python",
   "pygments_lexer": "ipython3",
   "version": "3.10.0"
  }
 },
 "nbformat": 4,
 "nbformat_minor": 5
}
